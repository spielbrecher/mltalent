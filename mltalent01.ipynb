{
 "cells": [
  {
   "cell_type": "code",
   "execution_count": 99,
   "id": "e67619b8-891d-4198-ab53-b6eb5fd5edb9",
   "metadata": {
    "tags": []
   },
   "outputs": [],
   "source": [
    "import json\n",
    "import numpy as np\n",
    "import pandas as pd\n",
    "from nltk import sent_tokenize, word_tokenize, regexp_tokenize\n",
    "from pymorphy2 import MorphAnalyzer\n",
    "# лемматизация и мешок слов\n",
    "import nltk\n",
    "#nltk.download('punkt')\n",
    "#nltk.download('stopwords')\n",
    "#удаляю русские стоп слова (расширить???)\n",
    "from nltk.corpus import stopwords\n",
    "russian_stopwords = stopwords.words(\"russian\")\n",
    "english_stopwords = stopwords.words(\"english\")\n",
    "import spacy\n",
    "from spacy.lang.ru import Russian\n",
    "from datetime import date\n",
    "import datetime"
   ]
  },
  {
   "cell_type": "code",
   "execution_count": 8,
   "id": "d3e344da-5098-495f-918b-307ac81b5049",
   "metadata": {
    "tags": []
   },
   "outputs": [],
   "source": [
    "with open(\"case_2_data_for_members.json\", \"r\", encoding=\"utf-8\") as f:    \n",
    "    data = json.load(f)"
   ]
  },
  {
   "cell_type": "code",
   "execution_count": 10,
   "id": "2026615e-4872-401e-b815-5ed36715a20f",
   "metadata": {
    "tags": []
   },
   "outputs": [
    {
     "data": {
      "text/plain": [
       "dict_keys(['vacancy', 'failed_resumes', 'confirmed_resumes'])"
      ]
     },
     "execution_count": 10,
     "metadata": {},
     "output_type": "execute_result"
    }
   ],
   "source": [
    "data[0].keys()"
   ]
  },
  {
   "cell_type": "code",
   "execution_count": 13,
   "id": "d03561cc-9483-4a9c-a66d-6ab482dac878",
   "metadata": {
    "tags": []
   },
   "outputs": [
    {
     "data": {
      "text/plain": [
       "' Описание Мы расширяем команды и ищем разработчиков для развития нескольких сервисов:   Инвестиции. Мы — лидер среди брокеров по количеству активных клиентов. Делаем инвестиции удобными, технологичными и понятными;   Бизнес. Меняем подход к ведению бухгалтерии, обмену документами между организациями и работе с архивами — переводим все и вся в цифру;   Страхование. Развиваем платформу прямых продаж. Наша цель — предсказуемый, удобный процесс для бизнеса и клиента; Платежные технологии и процессинг. Занимаемся разработкой и поддержкой платежного шлюза банка. Задачи шлюза — определять тип платежей, наполнять их данными из других систем банка и проверять разрешенность операций. У нас много интересных и разнообразных задач, опытная команда и отличные возможности для роста. Откликайтесь на вакансию, чтобы узнать о проектах и выбрать подходящий для вас. Требования Опыт разработки на Java от 3 лет Опыт коммерческой разработки на Java 11+ или Kotlin Опыт коммерческой разработки с любым из фреймворков: Spring Boot, Quarkus, Micronaut или Vert.x Опыт коммерческой разработки с одним из контейнеризаторов: Kubernetes, Docker или OpenShift Опыт коммерческой разработки с одним из брокеров: Kafka, Rabbit MQ или Active MQ Опыт коммерческой разработки с Postgress, MySQL или Oracle будет плюсом Опыт работы с системой контроля версий Мы предлагаем Работу в офисе или удаленно — по договоренности Возможность работы в аккредитованной ИТ-компании Платформу обучения и развития «  Апгрейд». Курсы, тренинги, вебинары и базы знаний. Поддержку менторов и наставников, помощь в поиске точек роста и карьерном развитии Заботу о здоровье. Оформим полис ДМС со стоматологией и страховку от несчастных случаев. Предложим льготное страхование вашим близким Бесплатный фитнес-зал или компенсацию затрат на спортивные занятия 3 дополнительных дня отпуска в год Уникальную well-being-программу, направленную на физическое и ментальное благополучие сотрудников Достойную зарплату — обсудим ее на собеседовании '"
      ]
     },
     "execution_count": 13,
     "metadata": {},
     "output_type": "execute_result"
    }
   ],
   "source": [
    "data[0]['vacancy']['description']"
   ]
  },
  {
   "cell_type": "code",
   "execution_count": 22,
   "id": "90a71142-d61a-4c19-acd8-0f1ffeb99990",
   "metadata": {
    "tags": []
   },
   "outputs": [
    {
     "data": {
      "text/plain": [
       "{'uuid': 'c03085c3-9b1e-3564-bb1e-59aa72e5fbca',\n",
       " 'name': 'Ведущий/ Главный аналитик DWH',\n",
       " 'keywords': None,\n",
       " 'description': ' Желательно знания Oracle   сегодня — не просто банк. Это сервисы, которыми пользуются люди с разными потребностями, интересами и желаниями. И для каждого нашего клиента мы стараемся сделать удобные и качественные ИТ-продукты. Без сильной, экспертной ИТ-команды это было бы невозможно, поэтому у нас всегда есть интересные проекты для проверки твоих скиллов, собственная IT-академия для начинающих и классный мерч, который можно получить за хорошую работу. Сейчас у нас открыта вакансия Ведущий аналитик DWH в департамент аналитики. Чем предстоит заниматься: – Участие в обсуждении инициатив бизнес-пользователей с точки зрения их возможной реализации в информационных системах; – Интервьюирование пользователей, сбор бизнес-требований; – Исследование информационных систем Банка и интервьюирование технических владельцев для определения источников данных, их свойств и логики наполнения; – Написание технических заданий и функциональных требований на доработку отчетов, БД и интеграционных решений в соответствии с существующим архитектурным ландшафтом Банка; – Согласование проектной документации; – Контроль соответствия разрабатываемого продукта подготовленной документации (функциональное тестирование); – Участие в пользовательском тестировании в качестве посредника между бизнесом и разработчиками; – Анализ SQL-кода существующих процедур и пакетов с целью проектирования доработок; – Анализ ошибок и формирование требований на доработку функционала в рамках 3-ей линии техподдержки. Что для нас важно: – Опыт работы работы с хранилищем данных (Oracle); – Глубокое знание SQL (диалект Oracle), написание сложных запросов, чтение PL/SQL-кода; – Опыт проектирования и разработки отчетности на базе одного из инструментов: MS SQL Reporting Services, Tableau, QlikView; – Опыт проектирования объектов БД, понимание архитектуры хранилищ данных; – Желателен опыт работы с ETL-средствами, предпочтительно с Informatica PowerCenter; – Плюсом будет опыт работы в финансовых организациях или на проектах в финансовых организациях в роли аналитика данных или системного аналитика (понимание банковской предметной области, в частности, бухгалтерского учета); – Плюсом будет знакомство с СУБД Vertica; – Навыки описания потоков загрузки данных в хранилища (DWH), составления технической документации (Source2Target, модель данных и т.д.). Что мы предлагаем: – График работы удаленный, но всегда можно приехать в офис; – Корпоративная электронная библиотека; – Страхование при выезде за рубеж; – Корпоративная социальная и материальная поддержка в определенных жизненных ситуациях; – 10 рабочих дней 100% оплачиваемого листа нетрудоспособности в год; – Корпоративные скидки и специальные акции от компаний- партнеров; – Льготные условия на продукты Банка; – Корпоративные мероприятия для сотрудников и их детей; ',\n",
       " 'comment': 'удаленка, 300к гросс (может +10%) + 2 оклада премия годовая в среднем'}"
      ]
     },
     "execution_count": 22,
     "metadata": {},
     "output_type": "execute_result"
    }
   ],
   "source": [
    "data[2]['vacancy']"
   ]
  },
  {
   "cell_type": "code",
   "execution_count": 17,
   "id": "549a6c34-4e4a-4f26-b00b-eaee788e25a7",
   "metadata": {
    "tags": []
   },
   "outputs": [
    {
     "data": {
      "text/plain": [
       "' Проекты: Внутренний продукт  а по заказу инструментов разработки для сотрудников; Команда состояла из владельца продукта, аналитика, 4 бэкенд разработчиков, 4 фронтенд разработчиков, 1 тестер. Что делал на проектах: Спроектировал и реализовал новые методы REST API, разрабатывал новый бизнес функционал, исправлял баги; Создавал новые микро-сервисы на SpringBoot, покрыл их тестами и передал пользователям; Покрыл проект юнит-тестами с использованием jUnit, Mockito; Работал в команде, проходил и проводил code-review. Технологии: Java 11, Spring Boot, Hibernate, Spring Data, Spring Security, Maven, Camunda, Postgres, Liquibase, Kafka, jUnit, Mockito, Swagger, Bitbucket '"
      ]
     },
     "execution_count": 17,
     "metadata": {},
     "output_type": "execute_result"
    }
   ],
   "source": [
    "data[0]['confirmed_resumes'][0]['experienceItem'][0]['description']"
   ]
  },
  {
   "cell_type": "code",
   "execution_count": 19,
   "id": "20b42cef-6890-44ce-826c-6d6778dfe8c3",
   "metadata": {
    "tags": []
   },
   "outputs": [
    {
     "data": {
      "text/plain": [
       "{'uuid': '8c8cf797-2c6b-3f4b-b28b-20d57bd88b82',\n",
       " 'first_name': 'Марк',\n",
       " 'last_name': 'Силин',\n",
       " 'birth_date': '1987-01-01',\n",
       " 'country': 'Россия',\n",
       " 'city': 'Великий Новгород',\n",
       " 'about': None,\n",
       " 'key_skills': 'Java, Java Spring Framework, Hibernate, Git, PostgreSQL, REST, Camunda, Apache Kafka, Spring Boot',\n",
       " 'experienceItem': [{'starts': '2022-02-01',\n",
       "   'ends': None,\n",
       "   'employer': 'ОАО ЭлектроАвтоТяж',\n",
       "   'city': 'Коломна',\n",
       "   'position': 'java-разработчик',\n",
       "   'description': ' Проекты: Внутренний продукт  а по заказу инструментов разработки для сотрудников; Команда состояла из владельца продукта, аналитика, 4 бэкенд разработчиков, 4 фронтенд разработчиков, 1 тестер. Что делал на проектах: Спроектировал и реализовал новые методы REST API, разрабатывал новый бизнес функционал, исправлял баги; Создавал новые микро-сервисы на SpringBoot, покрыл их тестами и передал пользователям; Покрыл проект юнит-тестами с использованием jUnit, Mockito; Работал в команде, проходил и проводил code-review. Технологии: Java 11, Spring Boot, Hibernate, Spring Data, Spring Security, Maven, Camunda, Postgres, Liquibase, Kafka, jUnit, Mockito, Swagger, Bitbucket '},\n",
       "  {'starts': '2017-10-01',\n",
       "   'ends': '2022-02-01',\n",
       "   'employer': 'ОАО ВодЛенТомскМашина',\n",
       "   'city': 'Красногорск',\n",
       "   'position': 'java-developer',\n",
       "   'description': ' Проекты: Проект по управлению складскими помещениями. Самостоятельно реализовал часть CRM системы для внутреннего и внешнего использования, интеграции с внешними системами, в том числе с таможней, участвовал в реализации функционала на EJB, развертываемым на WildFly; Проект по интеграции call-центра с системой телефонии Avaya с использованием Spring Boot и асинхронного взаимодействия; Проект по хранению и поставке пользовательских данных в межведомственные системы электронного взаимодействия Ленинградской области; Команда состояла из менеджера проекта, 2 бэкенд разработчиков, 1 фронтенд разработчика. Что делал на проектах: Спроектировал и реализовал новые методы REST API, разрабатывал бизнес функционал, исправлял баги; Подключил систему телефонии для сотрудников call-центра при помощи библиотеки jtapi от Avaya; Проработал архитектуру и реализовал интеграционные сервисы на SpringBoot, покрыл их тестами и передал пользователям; Занимался избавлением от legacy кода проекта по шаблонизации CRM что значительно повысило time-to-market; Формировал отчеты различной сложности для пользователей системы с использованием POI и JasperReports; Покрыл проект юнит-тестами с использованием jUnit, Mockito; Работал в команде, проходил и проводил code-review. Технологии: Java 8, Java 11, Spring, Spring Boot, EJB, Tomcat, WildFly, Hibernate, Spring Data, Spring Security, Maven, Postgres, Liquibase, jUnit, Mockito, Swagger, Git, Docker, Github '}],\n",
       " 'educationItem': [{'year': None,\n",
       "   'organization': 'НовГУ',\n",
       "   'faculty': 'Архитектуры, искусств и строительства',\n",
       "   'specialty': '',\n",
       "   'result': '',\n",
       "   'education_type': 'Основное',\n",
       "   'education_level': 'Высшее'}]}"
      ]
     },
     "execution_count": 19,
     "metadata": {},
     "output_type": "execute_result"
    }
   ],
   "source": [
    "data[0]['confirmed_resumes'][0]"
   ]
  },
  {
   "cell_type": "code",
   "execution_count": 25,
   "id": "2b17eebc-0b61-41a5-b81b-0e0e9ee929c7",
   "metadata": {
    "tags": []
   },
   "outputs": [
    {
     "data": {
      "text/plain": [
       "13"
      ]
     },
     "execution_count": 25,
     "metadata": {},
     "output_type": "execute_result"
    }
   ],
   "source": [
    "len(data[10]['failed_resumes'])"
   ]
  },
  {
   "cell_type": "code",
   "execution_count": 39,
   "id": "bbced64c-7783-4930-bdc8-676b4df5f255",
   "metadata": {
    "tags": []
   },
   "outputs": [
    {
     "name": "stdout",
     "output_type": "stream",
     "text": [
      "Косинусное сходство: [[0.01059969]]\n"
     ]
    }
   ],
   "source": [
    "import json\n",
    "from nltk.tokenize import word_tokenize\n",
    "from nltk.stem import WordNetLemmatizer\n",
    "from sklearn.feature_extraction.text import TfidfVectorizer\n",
    "from sklearn.metrics.pairwise import cosine_similarity\n",
    "#nltk.download('punkt')\n",
    "#nltk.download('wordnet')\n",
    "\n",
    "# Загрузка данных\n",
    "resume = data[4]['confirmed_resumes'][0]['experienceItem'][0]['description']\n",
    "#resume = data[2]['failed_resumes'][0]['experienceItem'][0]['description']\n",
    "vacancy = data[4]['vacancy']['description']\n",
    "\n",
    "# Предобработка nltk.corpus.stopwords.words(\"russian\")\n",
    "#stop_words = set([\"the\", \"is\", \"of\", \"and\", \"a\", \"to\", \"in\", \"on\", \"with\"])\n",
    "stop_words = nltk.corpus.stopwords.words(\"russian\")\n",
    "lemmatizer = WordNetLemmatizer()\n",
    "\n",
    "resume_text = \" \".join([lemmatizer.lemmatize(token) for token in word_tokenize(resume.lower()) if token not in stop_words])\n",
    "vacancy_text = \" \".join([lemmatizer.lemmatize(token) for token in word_tokenize(vacancy.lower()) if token not in stop_words])\n",
    "\n",
    "# Сопоставление\n",
    "tfidf_vectorizer = TfidfVectorizer()\n",
    "vectors = tfidf_vectorizer.fit_transform([resume_text, vacancy_text])\n",
    "cosine_similarity_score = cosine_similarity(vectors[0], vectors[1])\n",
    "\n",
    "# Вывод\n",
    "print(\"Косинусное сходство:\", cosine_similarity_score)"
   ]
  },
  {
   "cell_type": "code",
   "execution_count": 58,
   "id": "7d41950f-05f7-44bb-9303-aeee9d31b1cf",
   "metadata": {
    "tags": []
   },
   "outputs": [],
   "source": [
    "def get_cosinus(resume, vacancy):\n",
    "    stop_words = nltk.corpus.stopwords.words(\"russian\")\n",
    "    lemmatizer = WordNetLemmatizer()\n",
    "\n",
    "    resume_text = \" \".join([lemmatizer.lemmatize(token) for token in word_tokenize(resume.lower()) if token not in stop_words])\n",
    "    vacancy_text = \" \".join([lemmatizer.lemmatize(token) for token in word_tokenize(vacancy.lower()) if token not in stop_words])\n",
    "\n",
    "    # Сопоставление\n",
    "    tfidf_vectorizer = TfidfVectorizer()\n",
    "    vectors = tfidf_vectorizer.fit_transform([resume_text, vacancy_text])\n",
    "    cosine_similarity_score = cosine_similarity(vectors[0], vectors[1])\n",
    "\n",
    "    return cosine_similarity_score[0][0]"
   ]
  },
  {
   "cell_type": "code",
   "execution_count": 93,
   "id": "64a13247-ac81-4fee-b9e9-66ab9fccb9f3",
   "metadata": {
    "tags": []
   },
   "outputs": [],
   "source": [
    "def calculate_age(birthdate):\n",
    "    today = date.today()\n",
    "    year_diff = today.year - birthdate.year\n",
    "    month_diff = today.month - birthdate.month\n",
    "    day_diff = today.day - birthdate.day\n",
    "\n",
    "    if month_diff < 0:\n",
    "        year_diff -= 1\n",
    "    elif month_diff == 0 and day_diff < 0:\n",
    "        year_diff -= 1\n",
    "\n",
    "    return year_diff"
   ]
  },
  {
   "cell_type": "code",
   "execution_count": 135,
   "id": "0435ad67-ed07-454f-ad5a-450a911a81ee",
   "metadata": {
    "tags": []
   },
   "outputs": [],
   "source": [
    "def get_distance(resume):\n",
    "    res = 0\n",
    "    try:\n",
    "        country = resume['country']\n",
    "        city = resume['city']\n",
    "        if(country=='Россия'):\n",
    "            res += 2\n",
    "        if(city=='Санкт-Петербург'):\n",
    "            res += 1\n",
    "        elif (city=='Москва'):\n",
    "            res += 2\n",
    "    except:\n",
    "        res = 0\n",
    "    return res       \n",
    "    "
   ]
  },
  {
   "cell_type": "code",
   "execution_count": 150,
   "id": "bd8dd5d0-21c7-4b8b-8bb9-6c988fb0be3f",
   "metadata": {
    "tags": []
   },
   "outputs": [],
   "source": [
    "def get_experience_count(resume):\n",
    "    res = 0\n",
    "    try:\n",
    "        res = len(resume['experienceItem'])\n",
    "    except:\n",
    "        res = 0\n",
    "    return res"
   ]
  },
  {
   "cell_type": "code",
   "execution_count": 163,
   "id": "c3edaca3-ef24-4350-9e13-0ca8e500c7c9",
   "metadata": {
    "tags": []
   },
   "outputs": [],
   "source": [
    "def get_experience_age(resume):\n",
    "    res = 0\n",
    "    try:\n",
    "        for exp in resume['experienceItem']:\n",
    "            starts = pd.to_datetime(exp['starts'])\n",
    "            ends = pd.to_datetime(exp['ends'])\n",
    "            if ends == None:\n",
    "                ends = date.today()\n",
    "            year_diff = ends.year - starts.year\n",
    "            month_diff = ends.month - starts.month\n",
    "            day_diff = ends.day - starts.day\n",
    "\n",
    "            if month_diff < 0:\n",
    "                year_diff -= 1\n",
    "            elif month_diff == 0 and day_diff < 0:\n",
    "                year_diff -= 1\n",
    "                \n",
    "            res += year_diff    \n",
    "    except:\n",
    "        res = 0\n",
    "    return res\n",
    "            "
   ]
  },
  {
   "cell_type": "code",
   "execution_count": 180,
   "id": "a98768fa-4b9b-43ee-b222-df9e39c5e6f5",
   "metadata": {
    "tags": []
   },
   "outputs": [],
   "source": [
    "def get_resume_length(resume):\n",
    "    # Складываем все описания предыдущих мест работы и получаем длину\n",
    "    res = 0\n",
    "    str = ''\n",
    "    try:\n",
    "        for exp in resume['experienceItem']:\n",
    "            str += exp['description']\n",
    "    except:\n",
    "        None\n",
    "    res = len(str)\n",
    "    return res"
   ]
  },
  {
   "cell_type": "code",
   "execution_count": 193,
   "id": "642b2354-6f20-46b1-b35e-f626c64b6928",
   "metadata": {
    "tags": []
   },
   "outputs": [],
   "source": [
    "def get_skills_length(resume):\n",
    "    res = 0\n",
    "    try:\n",
    "        res = len(resume['key_skills'])\n",
    "    except:\n",
    "        None\n",
    "    return res"
   ]
  },
  {
   "cell_type": "code",
   "execution_count": 234,
   "id": "00a48248-1723-4ce2-9f61-a15f7816876f",
   "metadata": {},
   "outputs": [],
   "source": [
    "# Создаем датафрейм для модели\n",
    "#df = pd.DataFrame(columns=[\"uuid\", \"age\", \"distance\", \"experience_count\", \"experience_age\", \"resume_length\", \"cosinus\", \"success\"])\n",
    "df = pd.DataFrame(columns=[\"uuid\", \"age\", \"distance\", \"experience_count\", \"experience_age\", \"resume_length\", \"skills\", \"cosinus\", \"success\"])\n",
    "#df = pd.DataFrame(columns=[\"uuid\", \"age\", \"distance\", \"resume_length\", \"skills\", \"cosinus\", \"success\"])"
   ]
  },
  {
   "cell_type": "code",
   "execution_count": 43,
   "id": "5d223238-e6f4-48e3-baab-2128a3eb4ada",
   "metadata": {
    "tags": []
   },
   "outputs": [
    {
     "data": {
      "text/plain": [
       "{'uuid': '74392e00-ecfb-335b-9fc1-c2652dca06e5',\n",
       " 'first_name': 'Данила',\n",
       " 'last_name': 'Прохоров',\n",
       " 'birth_date': '1979-01-01',\n",
       " 'country': 'Россия',\n",
       " 'city': 'Санкт-Петербург',\n",
       " 'about': None,\n",
       " 'key_skills': 'Java, Spring Boot, Java EE, SQL, Hibernate, Git, Docker, Высоконагруженные системы, PostgreSQL, Linux',\n",
       " 'experienceItem': [{'starts': '2022-05-01',\n",
       "   'ends': '2023-10-23',\n",
       "   'employer': 'МФО ХмельИнфоОрион',\n",
       "   'city': 'Можайск',\n",
       "   'position': 'Ведущий инженер-программист',\n",
       "   'description': ' Интеграционные адаптеры для передачи заявок пользователей на API компаний партнеров (Кредиты, ипотека, кредитные карты) и возврат полученных ответов системам Банки.ру. Участие в обсуждении архитектурных решений. Проведение code-review. Обучение сотрудников (наставничество). Стек: Java, Docker, SQL, Hibernate, Java Spring Framework, Apache Maven, REST, Redis, Системная интеграция '},\n",
       "  {'starts': '2021-08-01',\n",
       "   'ends': '2022-05-01',\n",
       "   'employer': 'МКК РадиоITАсбоцементМаш',\n",
       "   'city': 'Ступино',\n",
       "   'position': 'Главный инженер-программист',\n",
       "   'description': ' Система расчета мотивации сотрудников банка (расчет премии) Разработка backend микросервисов, работающих под управлением WebLogic. Миграция микросервисов в OpenShift. Перевод логики выполнения бизнес-процессов под BPM Camunda. Менторство, проведение code-review, участие в обсуждении архитектуры продукта. Причина ухода: была отменена возможность удаленной работы, в связи с чем кандидат добирался до работы около 3-х часов, что не устраивало Стек: Java8, Spring, Oracle, Hibernate, Camunda. '},\n",
       "  {'starts': '2020-10-01',\n",
       "   'ends': '2021-08-01',\n",
       "   'employer': 'ОАО ХозМор',\n",
       "   'city': 'Павловский Посад',\n",
       "   'position': 'Ведущий инженер-программист',\n",
       "   'description': ' MVP проекты для Газпром-нефть. Причина ухода: Проекты закрылись по коммерческим причинам Стек: Spring Boot, PostgreSQL, Apache Kafka, Docker, Minio '},\n",
       "  {'starts': '2019-01-01',\n",
       "   'ends': '2020-10-01',\n",
       "   'employer': 'ОАО Пив',\n",
       "   'city': 'Луховицы',\n",
       "   'position': 'Старший инженер-программист',\n",
       "   'description': ' Проект для учета ресурсов (каналы передачи данных, их скорость, оборудование и т.д.) оператора связи Viva-telecom для Бразилии. Декомпозиция задач Планирование ресурсов Код ревью Стек: OpenShift, Docker, RabbitMQ, Cassandra, PostgreSQL, Oracle, GIT, Maven, Jenkins, Artifactory, JUnit, Mockito, Spring, WebFlux, Jackson, Hibernate, Apache Camel, ANTLR, FlyWay, Quarkus, Swagger. '},\n",
       "  {'starts': '2013-08-01',\n",
       "   'ends': '2018-12-01',\n",
       "   'employer': 'МФО СантехФинансОрионБанк',\n",
       "   'city': 'Можайск',\n",
       "   'position': 'Ведущий инженер-программист',\n",
       "   'description': ' Разработка интеграционных решений для нужд компании с использованием языка Java и стека EE (Рассылка Email, интеграция с VoxImplant. Интеграция с провайдерами электронного документооборота Diadoc и Корус, Backend Rest-сервисы, система автоматизации пунктов выдачи заказов). Реализация ESB шины компании на основе Apache Camel. Разработка CRM. Администрирование серверов Wildfly. Стек: JEE, Apache Camel, Guava, Jackson, Retrofit, JSF, XSLT, JPA, Hibernate, JDBC, JavaMail, JAX-RS, JavaScript, КриптоПро., JUnit, Mockito, Wildfly 10-13, RabbitMQ, ActiveMQ, MS SQL, MySQL, PostgreSQL, GIT, Youtrack, Teamcity, Nexus., Logstash, ElasticSearch, Grafana, Kibana. '}],\n",
       " 'educationItem': [{'year': 1999,\n",
       "   'organization': 'СибГАУ',\n",
       "   'faculty': 'Информатики и систем управления',\n",
       "   'specialty': '',\n",
       "   'result': '',\n",
       "   'education_type': 'Основное',\n",
       "   'education_level': 'Высшее'}]}"
      ]
     },
     "execution_count": 43,
     "metadata": {},
     "output_type": "execute_result"
    }
   ],
   "source": [
    "data[0][\"failed_resumes\"][0]"
   ]
  },
  {
   "cell_type": "code",
   "execution_count": 237,
   "id": "2cfb6d35-1622-47ce-8f60-e4378e884774",
   "metadata": {
    "tags": []
   },
   "outputs": [],
   "source": [
    "def get_features(resume):\n",
    "    features = []\n",
    "    features.append(resume['uuid'])  # uuid\n",
    "    age = 20\n",
    "    try:\n",
    "        birth_date = pd.to_datetime(resume['birth_date'])\n",
    "        age = calculate_age(birth_date)\n",
    "    except:\n",
    "        age=20    \n",
    "    features.append(age) # Возраст\n",
    "    \n",
    "    distance = get_distance(resume)\n",
    "    features.append(distance)  # Премия за географическое положение\n",
    "    \n",
    "    experience_count = get_experience_count(resume)\n",
    "    features.append(experience_count)  #  Количество мест предыдущих работ\n",
    "    \n",
    "    experience_age = get_experience_age(resume)\n",
    "    features.append(experience_age)  #  Стаж\n",
    "    \n",
    "    resume_length = get_resume_length(resume)\n",
    "    features.append(resume_length)  #  Длина резюме\n",
    "    \n",
    "    skills = get_skills_length(resume)\n",
    "    features.append(skills)  #  Длина скиллов в описании\n",
    "    \n",
    "    try:\n",
    "        experience = resume['experienceItem'][0]['description']\n",
    "    except:\n",
    "        experience = None\n",
    "    if experience:\n",
    "        cosinus = get_cosinus(experience, vacancy_description)\n",
    "    else:\n",
    "        cosinus = 0\n",
    "    features.append(cosinus)  # Косинусное расстояние от описания последнего опыта работы и вакансии\n",
    "    \n",
    "    return features\n",
    "        "
   ]
  },
  {
   "cell_type": "code",
   "execution_count": 238,
   "id": "3e407fc7-5b33-4f3d-b816-780bbbffbede",
   "metadata": {
    "tags": []
   },
   "outputs": [],
   "source": [
    "# Идем по всем вакансиям и по всем пользователям\n",
    "for index, vacancy in enumerate(data):\n",
    "    vacancy_description = vacancy['vacancy']['description']  # Описание вакансии\n",
    "    # Идем по всем отвергнутым кандидатам\n",
    "    for resume in vacancy[\"failed_resumes\"]:\n",
    "        # features        \n",
    "        features = get_features(resume)        \n",
    "        features.append(0)  # неуспешный кандидат\n",
    "        df.loc[len(df)] = features\n",
    "        \n",
    "    for resume in vacancy[\"confirmed_resumes\"]:\n",
    "        # features        \n",
    "        features = get_features(resume)\n",
    "        features.append(1)  # успешный кандидат\n",
    "        df.loc[len(df)] = features\n",
    "    "
   ]
  },
  {
   "cell_type": "code",
   "execution_count": 239,
   "id": "4b898dd4-86f7-4875-9d8d-4cce5d2245bc",
   "metadata": {
    "tags": []
   },
   "outputs": [
    {
     "name": "stdout",
     "output_type": "stream",
     "text": [
      "<class 'pandas.core.frame.DataFrame'>\n",
      "Index: 656 entries, 0 to 655\n",
      "Data columns (total 9 columns):\n",
      " #   Column            Non-Null Count  Dtype  \n",
      "---  ------            --------------  -----  \n",
      " 0   uuid              656 non-null    object \n",
      " 1   age               656 non-null    int64  \n",
      " 2   distance          656 non-null    int64  \n",
      " 3   experience_count  656 non-null    int64  \n",
      " 4   experience_age    656 non-null    int64  \n",
      " 5   resume_length     656 non-null    int64  \n",
      " 6   skills            656 non-null    int64  \n",
      " 7   cosinus           656 non-null    float64\n",
      " 8   success           656 non-null    int64  \n",
      "dtypes: float64(1), int64(7), object(1)\n",
      "memory usage: 51.2+ KB\n"
     ]
    }
   ],
   "source": [
    "df.info()"
   ]
  },
  {
   "cell_type": "code",
   "execution_count": 241,
   "id": "8e857221-e35f-43ac-8b94-f9c7a38dcff0",
   "metadata": {
    "tags": []
   },
   "outputs": [
    {
     "data": {
      "text/html": [
       "<div>\n",
       "<style scoped>\n",
       "    .dataframe tbody tr th:only-of-type {\n",
       "        vertical-align: middle;\n",
       "    }\n",
       "\n",
       "    .dataframe tbody tr th {\n",
       "        vertical-align: top;\n",
       "    }\n",
       "\n",
       "    .dataframe thead th {\n",
       "        text-align: right;\n",
       "    }\n",
       "</style>\n",
       "<table border=\"1\" class=\"dataframe\">\n",
       "  <thead>\n",
       "    <tr style=\"text-align: right;\">\n",
       "      <th></th>\n",
       "      <th>uuid</th>\n",
       "      <th>age</th>\n",
       "      <th>distance</th>\n",
       "      <th>experience_count</th>\n",
       "      <th>experience_age</th>\n",
       "      <th>resume_length</th>\n",
       "      <th>skills</th>\n",
       "      <th>cosinus</th>\n",
       "      <th>success</th>\n",
       "    </tr>\n",
       "  </thead>\n",
       "  <tbody>\n",
       "    <tr>\n",
       "      <th>651</th>\n",
       "      <td>2ddef29c-dd38-33d9-b046-7099a548c570</td>\n",
       "      <td>29</td>\n",
       "      <td>2</td>\n",
       "      <td>3</td>\n",
       "      <td>3</td>\n",
       "      <td>1616</td>\n",
       "      <td>134</td>\n",
       "      <td>0.079917</td>\n",
       "      <td>1</td>\n",
       "    </tr>\n",
       "    <tr>\n",
       "      <th>652</th>\n",
       "      <td>88779779-a59e-3580-b451-77f40ecd6c0e</td>\n",
       "      <td>35</td>\n",
       "      <td>2</td>\n",
       "      <td>4</td>\n",
       "      <td>6</td>\n",
       "      <td>1074</td>\n",
       "      <td>77</td>\n",
       "      <td>0.072100</td>\n",
       "      <td>1</td>\n",
       "    </tr>\n",
       "    <tr>\n",
       "      <th>653</th>\n",
       "      <td>3c418fd4-8956-31e3-a5ef-f638f6eac0c9</td>\n",
       "      <td>31</td>\n",
       "      <td>2</td>\n",
       "      <td>4</td>\n",
       "      <td>3</td>\n",
       "      <td>1752</td>\n",
       "      <td>241</td>\n",
       "      <td>0.104498</td>\n",
       "      <td>1</td>\n",
       "    </tr>\n",
       "    <tr>\n",
       "      <th>654</th>\n",
       "      <td>253cac7a-6788-359a-b10a-c444dcfc049e</td>\n",
       "      <td>24</td>\n",
       "      <td>3</td>\n",
       "      <td>4</td>\n",
       "      <td>5</td>\n",
       "      <td>867</td>\n",
       "      <td>126</td>\n",
       "      <td>0.005093</td>\n",
       "      <td>1</td>\n",
       "    </tr>\n",
       "    <tr>\n",
       "      <th>655</th>\n",
       "      <td>76e284ec-e1a0-3909-a063-b9f8ff0ad242</td>\n",
       "      <td>26</td>\n",
       "      <td>4</td>\n",
       "      <td>5</td>\n",
       "      <td>5</td>\n",
       "      <td>2778</td>\n",
       "      <td>168</td>\n",
       "      <td>0.075998</td>\n",
       "      <td>1</td>\n",
       "    </tr>\n",
       "  </tbody>\n",
       "</table>\n",
       "</div>"
      ],
      "text/plain": [
       "                                     uuid  age  distance  experience_count  \\\n",
       "651  2ddef29c-dd38-33d9-b046-7099a548c570   29         2                 3   \n",
       "652  88779779-a59e-3580-b451-77f40ecd6c0e   35         2                 4   \n",
       "653  3c418fd4-8956-31e3-a5ef-f638f6eac0c9   31         2                 4   \n",
       "654  253cac7a-6788-359a-b10a-c444dcfc049e   24         3                 4   \n",
       "655  76e284ec-e1a0-3909-a063-b9f8ff0ad242   26         4                 5   \n",
       "\n",
       "     experience_age  resume_length  skills   cosinus  success  \n",
       "651               3           1616     134  0.079917        1  \n",
       "652               6           1074      77  0.072100        1  \n",
       "653               3           1752     241  0.104498        1  \n",
       "654               5            867     126  0.005093        1  \n",
       "655               5           2778     168  0.075998        1  "
      ]
     },
     "execution_count": 241,
     "metadata": {},
     "output_type": "execute_result"
    }
   ],
   "source": [
    "df.tail()"
   ]
  },
  {
   "cell_type": "code",
   "execution_count": 242,
   "id": "7d3189b9-dc8b-41f7-85f2-5be0a986575b",
   "metadata": {
    "tags": []
   },
   "outputs": [],
   "source": [
    "from catboost import CatBoostClassifier\n",
    "from sklearn.model_selection import train_test_split"
   ]
  },
  {
   "cell_type": "code",
   "execution_count": 287,
   "id": "d0f8df51-663b-415d-ab22-9957170f7504",
   "metadata": {
    "tags": []
   },
   "outputs": [],
   "source": [
    "params = {\n",
    "        'verbose': 100,\n",
    "        'random_seed': 42,\n",
    "        'learning_rate': 0.1,\n",
    "        'eval_metric': 'F1',        \n",
    "        'iterations':2000\n",
    "        #'cat_features': cat_features, \n",
    "}"
   ]
  },
  {
   "cell_type": "code",
   "execution_count": 288,
   "id": "6a952bb3-cfae-4679-997d-fe46aeb88ba8",
   "metadata": {
    "tags": []
   },
   "outputs": [],
   "source": [
    "X = df.drop([\"uuid\",\"success\"], axis=1)\n",
    "y = df[\"success\"]"
   ]
  },
  {
   "cell_type": "code",
   "execution_count": 289,
   "id": "cc9f3308-b0cf-4ce0-9737-a91c52619ea7",
   "metadata": {
    "tags": []
   },
   "outputs": [],
   "source": [
    "model = CatBoostClassifier(**params)"
   ]
  },
  {
   "cell_type": "code",
   "execution_count": 290,
   "id": "8a3ca2de-6bf6-4cea-be5c-518f01691e02",
   "metadata": {
    "tags": []
   },
   "outputs": [],
   "source": [
    "# Разделяем датафрейм на обучающую и тестовую выборки\n",
    "X_train, X_test, y_train, y_test = train_test_split(X, y, test_size=0.3)"
   ]
  },
  {
   "cell_type": "code",
   "execution_count": 291,
   "id": "f5756f73-e6de-4ad2-a3f8-b50ad288ef99",
   "metadata": {
    "tags": []
   },
   "outputs": [
    {
     "name": "stdout",
     "output_type": "stream",
     "text": [
      "0:\tlearn: 0.1625000\ttotal: 2.45ms\tremaining: 4.9s\n",
      "100:\tlearn: 0.9132075\ttotal: 248ms\tremaining: 4.67s\n",
      "200:\tlearn: 0.9929078\ttotal: 458ms\tremaining: 4.1s\n",
      "300:\tlearn: 0.9928571\ttotal: 655ms\tremaining: 3.7s\n",
      "400:\tlearn: 0.9928571\ttotal: 853ms\tremaining: 3.4s\n",
      "500:\tlearn: 0.9929078\ttotal: 1.07s\tremaining: 3.21s\n",
      "600:\tlearn: 0.9929078\ttotal: 1.27s\tremaining: 2.96s\n",
      "700:\tlearn: 0.9928571\ttotal: 1.47s\tremaining: 2.72s\n",
      "800:\tlearn: 0.9929078\ttotal: 1.66s\tremaining: 2.49s\n",
      "900:\tlearn: 0.9929577\ttotal: 1.86s\tremaining: 2.26s\n",
      "1000:\tlearn: 0.9929078\ttotal: 2.04s\tremaining: 2.04s\n",
      "1100:\tlearn: 0.9929078\ttotal: 2.24s\tremaining: 1.83s\n",
      "1200:\tlearn: 0.9929078\ttotal: 2.43s\tremaining: 1.62s\n",
      "1300:\tlearn: 0.9928571\ttotal: 2.62s\tremaining: 1.41s\n",
      "1400:\tlearn: 0.9928571\ttotal: 2.81s\tremaining: 1.2s\n",
      "1500:\tlearn: 0.9928571\ttotal: 3s\tremaining: 996ms\n",
      "1600:\tlearn: 0.9929078\ttotal: 3.19s\tremaining: 795ms\n",
      "1700:\tlearn: 0.9929078\ttotal: 3.38s\tremaining: 595ms\n",
      "1800:\tlearn: 0.9929577\ttotal: 3.58s\tremaining: 396ms\n",
      "1900:\tlearn: 0.9929577\ttotal: 3.77s\tremaining: 196ms\n",
      "1999:\tlearn: 0.9929577\ttotal: 3.95s\tremaining: 0us\n"
     ]
    },
    {
     "data": {
      "text/plain": [
       "<catboost.core.CatBoostClassifier at 0x1c5f7ec1510>"
      ]
     },
     "execution_count": 291,
     "metadata": {},
     "output_type": "execute_result"
    }
   ],
   "source": [
    "model.fit(X_train, y_train)"
   ]
  },
  {
   "cell_type": "code",
   "execution_count": 292,
   "id": "54c7ab7e-cb70-43de-876a-0da94a419824",
   "metadata": {
    "tags": []
   },
   "outputs": [
    {
     "data": {
      "text/plain": [
       "0.700507614213198"
      ]
     },
     "execution_count": 292,
     "metadata": {},
     "output_type": "execute_result"
    }
   ],
   "source": [
    "score = model.score(X_test, y_test)\n",
    "score"
   ]
  },
  {
   "cell_type": "code",
   "execution_count": 296,
   "id": "42a07108-a041-4fe1-8c5a-0956d907919a",
   "metadata": {
    "tags": []
   },
   "outputs": [],
   "source": [
    "model.save_model(\"model.cbm\")"
   ]
  },
  {
   "cell_type": "code",
   "execution_count": 297,
   "id": "1dabc962-86e2-4b3c-8a64-4eb59ad4570c",
   "metadata": {
    "tags": []
   },
   "outputs": [],
   "source": [
    "prediction = model.predict(X)"
   ]
  },
  {
   "cell_type": "code",
   "execution_count": 298,
   "id": "a90f09ad-7cef-459d-b127-50ad08d0f90e",
   "metadata": {
    "tags": []
   },
   "outputs": [
    {
     "name": "stdout",
     "output_type": "stream",
     "text": [
      "Accuracy: 0.9070121951219512\n"
     ]
    }
   ],
   "source": [
    "from sklearn.metrics import accuracy_score\n",
    "\n",
    "accuracy = accuracy_score(y, prediction)\n",
    "\n",
    "print(\"Accuracy:\", accuracy)"
   ]
  },
  {
   "cell_type": "code",
   "execution_count": 299,
   "id": "1bc61d80-ed89-45af-8c4b-c5236ed9d76d",
   "metadata": {
    "tags": []
   },
   "outputs": [
    {
     "name": "stdout",
     "output_type": "stream",
     "text": [
      "Precision: 0.8707865168539326\n"
     ]
    }
   ],
   "source": [
    "from sklearn.metrics import precision_score\n",
    "\n",
    "precision = precision_score(y, prediction)\n",
    "\n",
    "print(\"Precision:\", precision)"
   ]
  },
  {
   "cell_type": "code",
   "execution_count": 300,
   "id": "426b41e9-87a3-4db7-84d6-ed6eafc7ce1f",
   "metadata": {
    "tags": []
   },
   "outputs": [
    {
     "name": "stdout",
     "output_type": "stream",
     "text": [
      "F1: 0.8355795148247979\n"
     ]
    }
   ],
   "source": [
    "from sklearn.metrics import f1_score\n",
    "\n",
    "f1 = f1_score(y, prediction)\n",
    "\n",
    "print(\"F1:\", f1)"
   ]
  },
  {
   "cell_type": "code",
   "execution_count": 293,
   "id": "a2d26bae-a285-4f5f-aa10-fcc9e2800211",
   "metadata": {
    "tags": []
   },
   "outputs": [],
   "source": [
    "# Загружаем файл с вакансией и кандидатами\n",
    "with open(\"case_2_reference_without_resume_sorted.json\", \"r\", encoding=\"utf-8\") as f:    \n",
    "    data2 = json.load(f)"
   ]
  },
  {
   "cell_type": "code",
   "execution_count": null,
   "id": "dbe33158-c9aa-41a2-9217-ff5cdfcc8662",
   "metadata": {
    "tags": []
   },
   "outputs": [],
   "source": [
    "data2"
   ]
  },
  {
   "cell_type": "code",
   "execution_count": 318,
   "id": "26705ed6-8f5b-4bc0-a630-b04794e23259",
   "metadata": {
    "tags": []
   },
   "outputs": [],
   "source": [
    "# Создаем датафрейм для соискателей\n",
    "df2 = pd.DataFrame(columns=[\"uuid\", \"age\", \"distance\", \"experience_count\", \"experience_age\", \"resume_length\", \"skills\", \"cosinus\"])\n"
   ]
  },
  {
   "cell_type": "code",
   "execution_count": 319,
   "id": "7f1bbe2e-2894-4031-a16c-12cc7d03d65d",
   "metadata": {
    "tags": []
   },
   "outputs": [
    {
     "name": "stdout",
     "output_type": "stream",
     "text": [
      "113\n"
     ]
    }
   ],
   "source": [
    "vacancy_descr = data2['vacancy']['description']\n",
    "print(len(data2['resumes']))\n",
    "for resume in data2['resumes']:\n",
    "    # features        \n",
    "    features = get_features(resume)            \n",
    "    df2.loc[len(df2)] = features\n"
   ]
  },
  {
   "cell_type": "code",
   "execution_count": 320,
   "id": "6c88383a-c038-4e36-bc06-c8b268504f05",
   "metadata": {
    "tags": []
   },
   "outputs": [
    {
     "data": {
      "text/html": [
       "<div>\n",
       "<style scoped>\n",
       "    .dataframe tbody tr th:only-of-type {\n",
       "        vertical-align: middle;\n",
       "    }\n",
       "\n",
       "    .dataframe tbody tr th {\n",
       "        vertical-align: top;\n",
       "    }\n",
       "\n",
       "    .dataframe thead th {\n",
       "        text-align: right;\n",
       "    }\n",
       "</style>\n",
       "<table border=\"1\" class=\"dataframe\">\n",
       "  <thead>\n",
       "    <tr style=\"text-align: right;\">\n",
       "      <th></th>\n",
       "      <th>uuid</th>\n",
       "      <th>age</th>\n",
       "      <th>distance</th>\n",
       "      <th>experience_count</th>\n",
       "      <th>experience_age</th>\n",
       "      <th>resume_length</th>\n",
       "      <th>skills</th>\n",
       "      <th>cosinus</th>\n",
       "    </tr>\n",
       "  </thead>\n",
       "  <tbody>\n",
       "    <tr>\n",
       "      <th>108</th>\n",
       "      <td>82df355a-235e-3046-9e6e-782ddf1600eb</td>\n",
       "      <td>28</td>\n",
       "      <td>4</td>\n",
       "      <td>2</td>\n",
       "      <td>2</td>\n",
       "      <td>2572</td>\n",
       "      <td>0</td>\n",
       "      <td>0.132429</td>\n",
       "    </tr>\n",
       "    <tr>\n",
       "      <th>109</th>\n",
       "      <td>915597ce-24e5-31fa-8dca-29437f49f839</td>\n",
       "      <td>37</td>\n",
       "      <td>2</td>\n",
       "      <td>9</td>\n",
       "      <td>8</td>\n",
       "      <td>2278</td>\n",
       "      <td>346</td>\n",
       "      <td>0.033970</td>\n",
       "    </tr>\n",
       "    <tr>\n",
       "      <th>110</th>\n",
       "      <td>f288a532-0b58-30cb-ac3c-f87e53984719</td>\n",
       "      <td>39</td>\n",
       "      <td>4</td>\n",
       "      <td>3</td>\n",
       "      <td>5</td>\n",
       "      <td>1427</td>\n",
       "      <td>79</td>\n",
       "      <td>0.035326</td>\n",
       "    </tr>\n",
       "    <tr>\n",
       "      <th>111</th>\n",
       "      <td>3e3a379f-226e-305e-b7d8-cf341e00cbd7</td>\n",
       "      <td>30</td>\n",
       "      <td>0</td>\n",
       "      <td>4</td>\n",
       "      <td>2</td>\n",
       "      <td>1168</td>\n",
       "      <td>225</td>\n",
       "      <td>0.031713</td>\n",
       "    </tr>\n",
       "    <tr>\n",
       "      <th>112</th>\n",
       "      <td>cc88bf96-f0b9-313a-abce-dbe60b6f1c98</td>\n",
       "      <td>36</td>\n",
       "      <td>4</td>\n",
       "      <td>3</td>\n",
       "      <td>14</td>\n",
       "      <td>1695</td>\n",
       "      <td>29</td>\n",
       "      <td>0.000000</td>\n",
       "    </tr>\n",
       "  </tbody>\n",
       "</table>\n",
       "</div>"
      ],
      "text/plain": [
       "                                     uuid  age  distance  experience_count  \\\n",
       "108  82df355a-235e-3046-9e6e-782ddf1600eb   28         4                 2   \n",
       "109  915597ce-24e5-31fa-8dca-29437f49f839   37         2                 9   \n",
       "110  f288a532-0b58-30cb-ac3c-f87e53984719   39         4                 3   \n",
       "111  3e3a379f-226e-305e-b7d8-cf341e00cbd7   30         0                 4   \n",
       "112  cc88bf96-f0b9-313a-abce-dbe60b6f1c98   36         4                 3   \n",
       "\n",
       "     experience_age  resume_length  skills   cosinus  \n",
       "108               2           2572       0  0.132429  \n",
       "109               8           2278     346  0.033970  \n",
       "110               5           1427      79  0.035326  \n",
       "111               2           1168     225  0.031713  \n",
       "112              14           1695      29  0.000000  "
      ]
     },
     "execution_count": 320,
     "metadata": {},
     "output_type": "execute_result"
    }
   ],
   "source": [
    "df2.tail()"
   ]
  },
  {
   "cell_type": "code",
   "execution_count": 321,
   "id": "cc7909ff-e899-407f-bfb1-c1f2f2f982cc",
   "metadata": {
    "tags": []
   },
   "outputs": [
    {
     "data": {
      "text/html": [
       "<div>\n",
       "<style scoped>\n",
       "    .dataframe tbody tr th:only-of-type {\n",
       "        vertical-align: middle;\n",
       "    }\n",
       "\n",
       "    .dataframe tbody tr th {\n",
       "        vertical-align: top;\n",
       "    }\n",
       "\n",
       "    .dataframe thead th {\n",
       "        text-align: right;\n",
       "    }\n",
       "</style>\n",
       "<table border=\"1\" class=\"dataframe\">\n",
       "  <thead>\n",
       "    <tr style=\"text-align: right;\">\n",
       "      <th></th>\n",
       "      <th>age</th>\n",
       "      <th>distance</th>\n",
       "      <th>experience_count</th>\n",
       "      <th>experience_age</th>\n",
       "      <th>resume_length</th>\n",
       "      <th>skills</th>\n",
       "      <th>cosinus</th>\n",
       "    </tr>\n",
       "  </thead>\n",
       "  <tbody>\n",
       "    <tr>\n",
       "      <th>0</th>\n",
       "      <td>32</td>\n",
       "      <td>4</td>\n",
       "      <td>5</td>\n",
       "      <td>3</td>\n",
       "      <td>1712</td>\n",
       "      <td>77</td>\n",
       "      <td>0.045842</td>\n",
       "    </tr>\n",
       "    <tr>\n",
       "      <th>1</th>\n",
       "      <td>33</td>\n",
       "      <td>2</td>\n",
       "      <td>4</td>\n",
       "      <td>10</td>\n",
       "      <td>4629</td>\n",
       "      <td>419</td>\n",
       "      <td>0.023021</td>\n",
       "    </tr>\n",
       "    <tr>\n",
       "      <th>2</th>\n",
       "      <td>34</td>\n",
       "      <td>3</td>\n",
       "      <td>3</td>\n",
       "      <td>3</td>\n",
       "      <td>923</td>\n",
       "      <td>129</td>\n",
       "      <td>0.039635</td>\n",
       "    </tr>\n",
       "    <tr>\n",
       "      <th>3</th>\n",
       "      <td>34</td>\n",
       "      <td>4</td>\n",
       "      <td>6</td>\n",
       "      <td>7</td>\n",
       "      <td>1538</td>\n",
       "      <td>200</td>\n",
       "      <td>0.039982</td>\n",
       "    </tr>\n",
       "    <tr>\n",
       "      <th>4</th>\n",
       "      <td>29</td>\n",
       "      <td>4</td>\n",
       "      <td>6</td>\n",
       "      <td>7</td>\n",
       "      <td>3163</td>\n",
       "      <td>0</td>\n",
       "      <td>0.004587</td>\n",
       "    </tr>\n",
       "    <tr>\n",
       "      <th>...</th>\n",
       "      <td>...</td>\n",
       "      <td>...</td>\n",
       "      <td>...</td>\n",
       "      <td>...</td>\n",
       "      <td>...</td>\n",
       "      <td>...</td>\n",
       "      <td>...</td>\n",
       "    </tr>\n",
       "    <tr>\n",
       "      <th>108</th>\n",
       "      <td>28</td>\n",
       "      <td>4</td>\n",
       "      <td>2</td>\n",
       "      <td>2</td>\n",
       "      <td>2572</td>\n",
       "      <td>0</td>\n",
       "      <td>0.132429</td>\n",
       "    </tr>\n",
       "    <tr>\n",
       "      <th>109</th>\n",
       "      <td>37</td>\n",
       "      <td>2</td>\n",
       "      <td>9</td>\n",
       "      <td>8</td>\n",
       "      <td>2278</td>\n",
       "      <td>346</td>\n",
       "      <td>0.033970</td>\n",
       "    </tr>\n",
       "    <tr>\n",
       "      <th>110</th>\n",
       "      <td>39</td>\n",
       "      <td>4</td>\n",
       "      <td>3</td>\n",
       "      <td>5</td>\n",
       "      <td>1427</td>\n",
       "      <td>79</td>\n",
       "      <td>0.035326</td>\n",
       "    </tr>\n",
       "    <tr>\n",
       "      <th>111</th>\n",
       "      <td>30</td>\n",
       "      <td>0</td>\n",
       "      <td>4</td>\n",
       "      <td>2</td>\n",
       "      <td>1168</td>\n",
       "      <td>225</td>\n",
       "      <td>0.031713</td>\n",
       "    </tr>\n",
       "    <tr>\n",
       "      <th>112</th>\n",
       "      <td>36</td>\n",
       "      <td>4</td>\n",
       "      <td>3</td>\n",
       "      <td>14</td>\n",
       "      <td>1695</td>\n",
       "      <td>29</td>\n",
       "      <td>0.000000</td>\n",
       "    </tr>\n",
       "  </tbody>\n",
       "</table>\n",
       "<p>113 rows × 7 columns</p>\n",
       "</div>"
      ],
      "text/plain": [
       "     age  distance  experience_count  experience_age  resume_length  skills  \\\n",
       "0     32         4                 5               3           1712      77   \n",
       "1     33         2                 4              10           4629     419   \n",
       "2     34         3                 3               3            923     129   \n",
       "3     34         4                 6               7           1538     200   \n",
       "4     29         4                 6               7           3163       0   \n",
       "..   ...       ...               ...             ...            ...     ...   \n",
       "108   28         4                 2               2           2572       0   \n",
       "109   37         2                 9               8           2278     346   \n",
       "110   39         4                 3               5           1427      79   \n",
       "111   30         0                 4               2           1168     225   \n",
       "112   36         4                 3              14           1695      29   \n",
       "\n",
       "      cosinus  \n",
       "0    0.045842  \n",
       "1    0.023021  \n",
       "2    0.039635  \n",
       "3    0.039982  \n",
       "4    0.004587  \n",
       "..        ...  \n",
       "108  0.132429  \n",
       "109  0.033970  \n",
       "110  0.035326  \n",
       "111  0.031713  \n",
       "112  0.000000  \n",
       "\n",
       "[113 rows x 7 columns]"
      ]
     },
     "execution_count": 321,
     "metadata": {},
     "output_type": "execute_result"
    }
   ],
   "source": [
    "X2 = df2.drop(\"uuid\", axis=1)\n",
    "X2"
   ]
  },
  {
   "cell_type": "code",
   "execution_count": 322,
   "id": "6e0844b3-34b9-40bd-8438-fb5d2a8df0b1",
   "metadata": {
    "tags": []
   },
   "outputs": [],
   "source": [
    "prediction = model.predict(X2)"
   ]
  },
  {
   "cell_type": "code",
   "execution_count": 326,
   "id": "dcdb1a6f-2d12-417b-af4f-b07a1609461e",
   "metadata": {
    "tags": []
   },
   "outputs": [],
   "source": [
    "candidates = df2[prediction==1]"
   ]
  },
  {
   "cell_type": "code",
   "execution_count": 328,
   "id": "ec07c4ff-fec7-409d-82a5-4dd388dddc3b",
   "metadata": {
    "tags": []
   },
   "outputs": [
    {
     "data": {
      "text/html": [
       "<div>\n",
       "<style scoped>\n",
       "    .dataframe tbody tr th:only-of-type {\n",
       "        vertical-align: middle;\n",
       "    }\n",
       "\n",
       "    .dataframe tbody tr th {\n",
       "        vertical-align: top;\n",
       "    }\n",
       "\n",
       "    .dataframe thead th {\n",
       "        text-align: right;\n",
       "    }\n",
       "</style>\n",
       "<table border=\"1\" class=\"dataframe\">\n",
       "  <thead>\n",
       "    <tr style=\"text-align: right;\">\n",
       "      <th></th>\n",
       "      <th>uuid</th>\n",
       "      <th>age</th>\n",
       "      <th>distance</th>\n",
       "      <th>experience_count</th>\n",
       "      <th>experience_age</th>\n",
       "      <th>resume_length</th>\n",
       "      <th>skills</th>\n",
       "      <th>cosinus</th>\n",
       "    </tr>\n",
       "  </thead>\n",
       "  <tbody>\n",
       "    <tr>\n",
       "      <th>3</th>\n",
       "      <td>9a9c3ff1-49f8-30dd-a294-e56fc60cae64</td>\n",
       "      <td>34</td>\n",
       "      <td>4</td>\n",
       "      <td>6</td>\n",
       "      <td>7</td>\n",
       "      <td>1538</td>\n",
       "      <td>200</td>\n",
       "      <td>0.039982</td>\n",
       "    </tr>\n",
       "    <tr>\n",
       "      <th>4</th>\n",
       "      <td>6561771c-7ef3-3e50-ab3a-ba8547201480</td>\n",
       "      <td>29</td>\n",
       "      <td>4</td>\n",
       "      <td>6</td>\n",
       "      <td>7</td>\n",
       "      <td>3163</td>\n",
       "      <td>0</td>\n",
       "      <td>0.004587</td>\n",
       "    </tr>\n",
       "    <tr>\n",
       "      <th>7</th>\n",
       "      <td>8e456229-6e4e-3d57-a90e-ae4c3e1db869</td>\n",
       "      <td>29</td>\n",
       "      <td>4</td>\n",
       "      <td>3</td>\n",
       "      <td>5</td>\n",
       "      <td>910</td>\n",
       "      <td>82</td>\n",
       "      <td>0.020484</td>\n",
       "    </tr>\n",
       "    <tr>\n",
       "      <th>9</th>\n",
       "      <td>5785c202-6744-3e1b-994a-d5bffc6aad14</td>\n",
       "      <td>24</td>\n",
       "      <td>0</td>\n",
       "      <td>3</td>\n",
       "      <td>5</td>\n",
       "      <td>2761</td>\n",
       "      <td>119</td>\n",
       "      <td>0.034054</td>\n",
       "    </tr>\n",
       "    <tr>\n",
       "      <th>17</th>\n",
       "      <td>aff4b709-ccd2-340a-949f-84b1bb7eb260</td>\n",
       "      <td>28</td>\n",
       "      <td>0</td>\n",
       "      <td>3</td>\n",
       "      <td>4</td>\n",
       "      <td>3202</td>\n",
       "      <td>93</td>\n",
       "      <td>0.069015</td>\n",
       "    </tr>\n",
       "    <tr>\n",
       "      <th>18</th>\n",
       "      <td>9cef8747-af3a-3833-9098-3bfabf1e40eb</td>\n",
       "      <td>35</td>\n",
       "      <td>0</td>\n",
       "      <td>7</td>\n",
       "      <td>5</td>\n",
       "      <td>1903</td>\n",
       "      <td>215</td>\n",
       "      <td>0.000000</td>\n",
       "    </tr>\n",
       "    <tr>\n",
       "      <th>19</th>\n",
       "      <td>c2a6bf5a-45ca-3f79-93ff-355a724b65df</td>\n",
       "      <td>31</td>\n",
       "      <td>4</td>\n",
       "      <td>6</td>\n",
       "      <td>3</td>\n",
       "      <td>2045</td>\n",
       "      <td>169</td>\n",
       "      <td>0.006746</td>\n",
       "    </tr>\n",
       "    <tr>\n",
       "      <th>21</th>\n",
       "      <td>1f1809fd-fde5-3720-a5dc-02f1160f53a9</td>\n",
       "      <td>28</td>\n",
       "      <td>3</td>\n",
       "      <td>1</td>\n",
       "      <td>2</td>\n",
       "      <td>381</td>\n",
       "      <td>66</td>\n",
       "      <td>0.045735</td>\n",
       "    </tr>\n",
       "    <tr>\n",
       "      <th>25</th>\n",
       "      <td>42eae4bf-4826-3105-b197-dc0afb063714</td>\n",
       "      <td>32</td>\n",
       "      <td>2</td>\n",
       "      <td>4</td>\n",
       "      <td>3</td>\n",
       "      <td>2100</td>\n",
       "      <td>90</td>\n",
       "      <td>0.076879</td>\n",
       "    </tr>\n",
       "    <tr>\n",
       "      <th>28</th>\n",
       "      <td>0cfa3d00-10b5-38d5-b166-329ff6f4598b</td>\n",
       "      <td>39</td>\n",
       "      <td>0</td>\n",
       "      <td>2</td>\n",
       "      <td>3</td>\n",
       "      <td>1295</td>\n",
       "      <td>284</td>\n",
       "      <td>0.064620</td>\n",
       "    </tr>\n",
       "    <tr>\n",
       "      <th>30</th>\n",
       "      <td>5cfd26bc-84e6-3714-b54b-746acbca3d18</td>\n",
       "      <td>31</td>\n",
       "      <td>3</td>\n",
       "      <td>5</td>\n",
       "      <td>9</td>\n",
       "      <td>2808</td>\n",
       "      <td>211</td>\n",
       "      <td>0.038646</td>\n",
       "    </tr>\n",
       "    <tr>\n",
       "      <th>31</th>\n",
       "      <td>7a79f64e-7a87-3008-b8ec-e165a94f72e0</td>\n",
       "      <td>30</td>\n",
       "      <td>4</td>\n",
       "      <td>5</td>\n",
       "      <td>6</td>\n",
       "      <td>1299</td>\n",
       "      <td>121</td>\n",
       "      <td>0.023020</td>\n",
       "    </tr>\n",
       "    <tr>\n",
       "      <th>32</th>\n",
       "      <td>6099f6cb-1897-3983-9afb-a71b37ebdc7b</td>\n",
       "      <td>29</td>\n",
       "      <td>0</td>\n",
       "      <td>2</td>\n",
       "      <td>2</td>\n",
       "      <td>1327</td>\n",
       "      <td>105</td>\n",
       "      <td>0.008056</td>\n",
       "    </tr>\n",
       "    <tr>\n",
       "      <th>34</th>\n",
       "      <td>f2094a17-764b-3cba-8a2f-cf25ce4d1100</td>\n",
       "      <td>34</td>\n",
       "      <td>0</td>\n",
       "      <td>3</td>\n",
       "      <td>4</td>\n",
       "      <td>1871</td>\n",
       "      <td>205</td>\n",
       "      <td>0.031583</td>\n",
       "    </tr>\n",
       "    <tr>\n",
       "      <th>35</th>\n",
       "      <td>70547288-56fc-3cab-9bef-f752f2e1b21f</td>\n",
       "      <td>20</td>\n",
       "      <td>2</td>\n",
       "      <td>5</td>\n",
       "      <td>6</td>\n",
       "      <td>804</td>\n",
       "      <td>118</td>\n",
       "      <td>0.043229</td>\n",
       "    </tr>\n",
       "    <tr>\n",
       "      <th>43</th>\n",
       "      <td>8e193a9a-d338-36b5-800b-45de7a809157</td>\n",
       "      <td>33</td>\n",
       "      <td>0</td>\n",
       "      <td>5</td>\n",
       "      <td>5</td>\n",
       "      <td>1738</td>\n",
       "      <td>181</td>\n",
       "      <td>0.009845</td>\n",
       "    </tr>\n",
       "    <tr>\n",
       "      <th>45</th>\n",
       "      <td>3c4020e7-172f-3ed5-adc9-fe9a62097b26</td>\n",
       "      <td>35</td>\n",
       "      <td>0</td>\n",
       "      <td>5</td>\n",
       "      <td>4</td>\n",
       "      <td>2209</td>\n",
       "      <td>101</td>\n",
       "      <td>0.032553</td>\n",
       "    </tr>\n",
       "    <tr>\n",
       "      <th>51</th>\n",
       "      <td>592ec449-a3b0-3a40-afdc-2cf78ef8291e</td>\n",
       "      <td>26</td>\n",
       "      <td>2</td>\n",
       "      <td>2</td>\n",
       "      <td>5</td>\n",
       "      <td>1998</td>\n",
       "      <td>76</td>\n",
       "      <td>0.034500</td>\n",
       "    </tr>\n",
       "    <tr>\n",
       "      <th>56</th>\n",
       "      <td>653dadb9-5c19-3f6a-8207-7e55e7db331a</td>\n",
       "      <td>40</td>\n",
       "      <td>4</td>\n",
       "      <td>4</td>\n",
       "      <td>17</td>\n",
       "      <td>1405</td>\n",
       "      <td>148</td>\n",
       "      <td>0.048717</td>\n",
       "    </tr>\n",
       "    <tr>\n",
       "      <th>63</th>\n",
       "      <td>d9847b13-dc30-36e7-8d75-c632495a7eec</td>\n",
       "      <td>35</td>\n",
       "      <td>4</td>\n",
       "      <td>12</td>\n",
       "      <td>13</td>\n",
       "      <td>4157</td>\n",
       "      <td>282</td>\n",
       "      <td>0.000000</td>\n",
       "    </tr>\n",
       "    <tr>\n",
       "      <th>65</th>\n",
       "      <td>73592479-12bf-38d4-84f0-91fe33518b47</td>\n",
       "      <td>33</td>\n",
       "      <td>0</td>\n",
       "      <td>5</td>\n",
       "      <td>8</td>\n",
       "      <td>2676</td>\n",
       "      <td>70</td>\n",
       "      <td>0.002442</td>\n",
       "    </tr>\n",
       "    <tr>\n",
       "      <th>71</th>\n",
       "      <td>fbab422e-7e0b-38d2-a7bc-cc7286858c10</td>\n",
       "      <td>31</td>\n",
       "      <td>3</td>\n",
       "      <td>5</td>\n",
       "      <td>5</td>\n",
       "      <td>0</td>\n",
       "      <td>150</td>\n",
       "      <td>0.000000</td>\n",
       "    </tr>\n",
       "    <tr>\n",
       "      <th>72</th>\n",
       "      <td>1ed1795c-43b2-304e-8386-bf53d0ebec18</td>\n",
       "      <td>24</td>\n",
       "      <td>3</td>\n",
       "      <td>6</td>\n",
       "      <td>7</td>\n",
       "      <td>800</td>\n",
       "      <td>157</td>\n",
       "      <td>0.051588</td>\n",
       "    </tr>\n",
       "    <tr>\n",
       "      <th>74</th>\n",
       "      <td>37cba700-eed6-3018-bad6-f720f8217aeb</td>\n",
       "      <td>38</td>\n",
       "      <td>4</td>\n",
       "      <td>4</td>\n",
       "      <td>16</td>\n",
       "      <td>13749</td>\n",
       "      <td>173</td>\n",
       "      <td>0.007916</td>\n",
       "    </tr>\n",
       "    <tr>\n",
       "      <th>78</th>\n",
       "      <td>f111eaab-2416-33f5-8a95-8ec11e8485c4</td>\n",
       "      <td>28</td>\n",
       "      <td>0</td>\n",
       "      <td>2</td>\n",
       "      <td>7</td>\n",
       "      <td>0</td>\n",
       "      <td>20</td>\n",
       "      <td>0.000000</td>\n",
       "    </tr>\n",
       "    <tr>\n",
       "      <th>79</th>\n",
       "      <td>c70de373-9f3a-3647-ab66-f25e98c29409</td>\n",
       "      <td>30</td>\n",
       "      <td>4</td>\n",
       "      <td>5</td>\n",
       "      <td>5</td>\n",
       "      <td>1592</td>\n",
       "      <td>110</td>\n",
       "      <td>0.018325</td>\n",
       "    </tr>\n",
       "    <tr>\n",
       "      <th>80</th>\n",
       "      <td>0825069f-c8ee-3ca9-b4f2-753b7a85688a</td>\n",
       "      <td>31</td>\n",
       "      <td>0</td>\n",
       "      <td>3</td>\n",
       "      <td>2</td>\n",
       "      <td>1270</td>\n",
       "      <td>90</td>\n",
       "      <td>0.011637</td>\n",
       "    </tr>\n",
       "    <tr>\n",
       "      <th>85</th>\n",
       "      <td>53a2a38b-4fef-3d65-8d6d-818d5e80dbfa</td>\n",
       "      <td>20</td>\n",
       "      <td>2</td>\n",
       "      <td>1</td>\n",
       "      <td>3</td>\n",
       "      <td>674</td>\n",
       "      <td>288</td>\n",
       "      <td>0.061344</td>\n",
       "    </tr>\n",
       "    <tr>\n",
       "      <th>86</th>\n",
       "      <td>5b52397d-7c55-3f10-82cb-3797709a51e5</td>\n",
       "      <td>21</td>\n",
       "      <td>4</td>\n",
       "      <td>3</td>\n",
       "      <td>2</td>\n",
       "      <td>943</td>\n",
       "      <td>151</td>\n",
       "      <td>0.003622</td>\n",
       "    </tr>\n",
       "    <tr>\n",
       "      <th>94</th>\n",
       "      <td>0fe70aee-589a-3ba7-8479-d8f2f83b0921</td>\n",
       "      <td>38</td>\n",
       "      <td>4</td>\n",
       "      <td>3</td>\n",
       "      <td>3</td>\n",
       "      <td>2151</td>\n",
       "      <td>217</td>\n",
       "      <td>0.012625</td>\n",
       "    </tr>\n",
       "    <tr>\n",
       "      <th>97</th>\n",
       "      <td>3bbc8c32-ba6f-3f3f-a469-ea009295a1ab</td>\n",
       "      <td>35</td>\n",
       "      <td>0</td>\n",
       "      <td>3</td>\n",
       "      <td>5</td>\n",
       "      <td>1335</td>\n",
       "      <td>279</td>\n",
       "      <td>0.034427</td>\n",
       "    </tr>\n",
       "    <tr>\n",
       "      <th>100</th>\n",
       "      <td>93d61f89-b8d0-3187-8c90-888be29e68dd</td>\n",
       "      <td>34</td>\n",
       "      <td>0</td>\n",
       "      <td>5</td>\n",
       "      <td>7</td>\n",
       "      <td>1554</td>\n",
       "      <td>108</td>\n",
       "      <td>0.055633</td>\n",
       "    </tr>\n",
       "    <tr>\n",
       "      <th>101</th>\n",
       "      <td>156ce0c2-d834-3e8e-ba17-3b35e68bbf10</td>\n",
       "      <td>29</td>\n",
       "      <td>4</td>\n",
       "      <td>5</td>\n",
       "      <td>5</td>\n",
       "      <td>1344</td>\n",
       "      <td>233</td>\n",
       "      <td>0.000000</td>\n",
       "    </tr>\n",
       "    <tr>\n",
       "      <th>103</th>\n",
       "      <td>bd53a1ea-ae17-3506-97b4-287aa8e9cc21</td>\n",
       "      <td>36</td>\n",
       "      <td>2</td>\n",
       "      <td>2</td>\n",
       "      <td>6</td>\n",
       "      <td>892</td>\n",
       "      <td>135</td>\n",
       "      <td>0.043539</td>\n",
       "    </tr>\n",
       "    <tr>\n",
       "      <th>105</th>\n",
       "      <td>0f45f507-0b5d-347f-86e2-0f799898f812</td>\n",
       "      <td>20</td>\n",
       "      <td>4</td>\n",
       "      <td>2</td>\n",
       "      <td>3</td>\n",
       "      <td>1324</td>\n",
       "      <td>151</td>\n",
       "      <td>0.051741</td>\n",
       "    </tr>\n",
       "    <tr>\n",
       "      <th>107</th>\n",
       "      <td>11ac90f4-ea3d-3c82-8cf7-19f9c4da8ad0</td>\n",
       "      <td>36</td>\n",
       "      <td>4</td>\n",
       "      <td>6</td>\n",
       "      <td>11</td>\n",
       "      <td>2127</td>\n",
       "      <td>71</td>\n",
       "      <td>0.011125</td>\n",
       "    </tr>\n",
       "    <tr>\n",
       "      <th>110</th>\n",
       "      <td>f288a532-0b58-30cb-ac3c-f87e53984719</td>\n",
       "      <td>39</td>\n",
       "      <td>4</td>\n",
       "      <td>3</td>\n",
       "      <td>5</td>\n",
       "      <td>1427</td>\n",
       "      <td>79</td>\n",
       "      <td>0.035326</td>\n",
       "    </tr>\n",
       "    <tr>\n",
       "      <th>112</th>\n",
       "      <td>cc88bf96-f0b9-313a-abce-dbe60b6f1c98</td>\n",
       "      <td>36</td>\n",
       "      <td>4</td>\n",
       "      <td>3</td>\n",
       "      <td>14</td>\n",
       "      <td>1695</td>\n",
       "      <td>29</td>\n",
       "      <td>0.000000</td>\n",
       "    </tr>\n",
       "  </tbody>\n",
       "</table>\n",
       "</div>"
      ],
      "text/plain": [
       "                                     uuid  age  distance  experience_count  \\\n",
       "3    9a9c3ff1-49f8-30dd-a294-e56fc60cae64   34         4                 6   \n",
       "4    6561771c-7ef3-3e50-ab3a-ba8547201480   29         4                 6   \n",
       "7    8e456229-6e4e-3d57-a90e-ae4c3e1db869   29         4                 3   \n",
       "9    5785c202-6744-3e1b-994a-d5bffc6aad14   24         0                 3   \n",
       "17   aff4b709-ccd2-340a-949f-84b1bb7eb260   28         0                 3   \n",
       "18   9cef8747-af3a-3833-9098-3bfabf1e40eb   35         0                 7   \n",
       "19   c2a6bf5a-45ca-3f79-93ff-355a724b65df   31         4                 6   \n",
       "21   1f1809fd-fde5-3720-a5dc-02f1160f53a9   28         3                 1   \n",
       "25   42eae4bf-4826-3105-b197-dc0afb063714   32         2                 4   \n",
       "28   0cfa3d00-10b5-38d5-b166-329ff6f4598b   39         0                 2   \n",
       "30   5cfd26bc-84e6-3714-b54b-746acbca3d18   31         3                 5   \n",
       "31   7a79f64e-7a87-3008-b8ec-e165a94f72e0   30         4                 5   \n",
       "32   6099f6cb-1897-3983-9afb-a71b37ebdc7b   29         0                 2   \n",
       "34   f2094a17-764b-3cba-8a2f-cf25ce4d1100   34         0                 3   \n",
       "35   70547288-56fc-3cab-9bef-f752f2e1b21f   20         2                 5   \n",
       "43   8e193a9a-d338-36b5-800b-45de7a809157   33         0                 5   \n",
       "45   3c4020e7-172f-3ed5-adc9-fe9a62097b26   35         0                 5   \n",
       "51   592ec449-a3b0-3a40-afdc-2cf78ef8291e   26         2                 2   \n",
       "56   653dadb9-5c19-3f6a-8207-7e55e7db331a   40         4                 4   \n",
       "63   d9847b13-dc30-36e7-8d75-c632495a7eec   35         4                12   \n",
       "65   73592479-12bf-38d4-84f0-91fe33518b47   33         0                 5   \n",
       "71   fbab422e-7e0b-38d2-a7bc-cc7286858c10   31         3                 5   \n",
       "72   1ed1795c-43b2-304e-8386-bf53d0ebec18   24         3                 6   \n",
       "74   37cba700-eed6-3018-bad6-f720f8217aeb   38         4                 4   \n",
       "78   f111eaab-2416-33f5-8a95-8ec11e8485c4   28         0                 2   \n",
       "79   c70de373-9f3a-3647-ab66-f25e98c29409   30         4                 5   \n",
       "80   0825069f-c8ee-3ca9-b4f2-753b7a85688a   31         0                 3   \n",
       "85   53a2a38b-4fef-3d65-8d6d-818d5e80dbfa   20         2                 1   \n",
       "86   5b52397d-7c55-3f10-82cb-3797709a51e5   21         4                 3   \n",
       "94   0fe70aee-589a-3ba7-8479-d8f2f83b0921   38         4                 3   \n",
       "97   3bbc8c32-ba6f-3f3f-a469-ea009295a1ab   35         0                 3   \n",
       "100  93d61f89-b8d0-3187-8c90-888be29e68dd   34         0                 5   \n",
       "101  156ce0c2-d834-3e8e-ba17-3b35e68bbf10   29         4                 5   \n",
       "103  bd53a1ea-ae17-3506-97b4-287aa8e9cc21   36         2                 2   \n",
       "105  0f45f507-0b5d-347f-86e2-0f799898f812   20         4                 2   \n",
       "107  11ac90f4-ea3d-3c82-8cf7-19f9c4da8ad0   36         4                 6   \n",
       "110  f288a532-0b58-30cb-ac3c-f87e53984719   39         4                 3   \n",
       "112  cc88bf96-f0b9-313a-abce-dbe60b6f1c98   36         4                 3   \n",
       "\n",
       "     experience_age  resume_length  skills   cosinus  \n",
       "3                 7           1538     200  0.039982  \n",
       "4                 7           3163       0  0.004587  \n",
       "7                 5            910      82  0.020484  \n",
       "9                 5           2761     119  0.034054  \n",
       "17                4           3202      93  0.069015  \n",
       "18                5           1903     215  0.000000  \n",
       "19                3           2045     169  0.006746  \n",
       "21                2            381      66  0.045735  \n",
       "25                3           2100      90  0.076879  \n",
       "28                3           1295     284  0.064620  \n",
       "30                9           2808     211  0.038646  \n",
       "31                6           1299     121  0.023020  \n",
       "32                2           1327     105  0.008056  \n",
       "34                4           1871     205  0.031583  \n",
       "35                6            804     118  0.043229  \n",
       "43                5           1738     181  0.009845  \n",
       "45                4           2209     101  0.032553  \n",
       "51                5           1998      76  0.034500  \n",
       "56               17           1405     148  0.048717  \n",
       "63               13           4157     282  0.000000  \n",
       "65                8           2676      70  0.002442  \n",
       "71                5              0     150  0.000000  \n",
       "72                7            800     157  0.051588  \n",
       "74               16          13749     173  0.007916  \n",
       "78                7              0      20  0.000000  \n",
       "79                5           1592     110  0.018325  \n",
       "80                2           1270      90  0.011637  \n",
       "85                3            674     288  0.061344  \n",
       "86                2            943     151  0.003622  \n",
       "94                3           2151     217  0.012625  \n",
       "97                5           1335     279  0.034427  \n",
       "100               7           1554     108  0.055633  \n",
       "101               5           1344     233  0.000000  \n",
       "103               6            892     135  0.043539  \n",
       "105               3           1324     151  0.051741  \n",
       "107              11           2127      71  0.011125  \n",
       "110               5           1427      79  0.035326  \n",
       "112              14           1695      29  0.000000  "
      ]
     },
     "execution_count": 328,
     "metadata": {},
     "output_type": "execute_result"
    }
   ],
   "source": [
    "candidates"
   ]
  },
  {
   "cell_type": "code",
   "execution_count": 329,
   "id": "d06c6199-cebb-47f9-b31a-f5ab52978c92",
   "metadata": {
    "tags": []
   },
   "outputs": [],
   "source": [
    "candidates[\"uuid\"].to_csv(\"uuid_123456.csv\", index=False)"
   ]
  }
 ],
 "metadata": {
  "kernelspec": {
   "display_name": "Python 3 (ipykernel)",
   "language": "python",
   "name": "python3"
  },
  "language_info": {
   "codemirror_mode": {
    "name": "ipython",
    "version": 3
   },
   "file_extension": ".py",
   "mimetype": "text/x-python",
   "name": "python",
   "nbconvert_exporter": "python",
   "pygments_lexer": "ipython3",
   "version": "3.11.5"
  }
 },
 "nbformat": 4,
 "nbformat_minor": 5
}
